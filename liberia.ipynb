{
 "cells": [
  {
   "cell_type": "markdown",
   "metadata": {},
   "source": [
    "SEIR model for the 2014 outbreak in Liberia.\n",
    "Numbers are taken from: [this article](10.1371/currents.outbreaks.91afb5e0f279e7f29e7056095255b288)"
   ]
  },
  {
   "cell_type": "code",
   "execution_count": null,
   "metadata": {},
   "outputs": [],
   "source": [
    "%matplotlib notebook\n",
    "import dateutil.parser\n",
    "from matplotlib import pyplot as plt\n",
    "import pandas as pd\n",
    "from model import run_model\n",
    "from plotting import (\n",
    "    plot_model_and_raw_data,\n",
    "    plot_model_evolution,\n",
    "    plot_model_evolution_item,\n",
    ")\n",
    "plt.style.use('seaborn-notebook')"
   ]
  },
  {
   "cell_type": "code",
   "execution_count": null,
   "metadata": {},
   "outputs": [],
   "source": [
    "raw = pd.read_csv('data/ebola_liberia.csv')\n",
    "raw['Date'] = [dateutil.parser.parse(i) for i in raw['Date'].values]"
   ]
  },
  {
   "cell_type": "code",
   "execution_count": null,
   "metadata": {},
   "outputs": [],
   "source": [
    "time_zero = dateutil.parser.parse('14 Apr 2014')\n",
    "\n",
    "parameters = {\n",
    "    'infectiousness': 5.61,\n",
    "    'incubation': 5.3,\n",
    "    'r0': 1.59,\n",
    "    'fatality': 0.71,\n",
    "    'kappa': 0.0,  # not constrictions?\n",
    "    'tau': 0,\n",
    "    'time_zero': time_zero,\n",
    "}\n",
    "\n",
    "parameters['beta_0'] = parameters['r0'] / parameters['infectiousness']\n",
    "parameters"
   ]
  },
  {
   "cell_type": "code",
   "execution_count": null,
   "metadata": {},
   "outputs": [],
   "source": [
    "population = 5 * 10**6\n",
    "initial_values = [population, 0, 1, 0, 0, 1]\n",
    "time_span = [0, 350]"
   ]
  },
  {
   "cell_type": "code",
   "execution_count": null,
   "metadata": {},
   "outputs": [],
   "source": [
    "result, _, time_date, model = run_model(time_span, parameters, initial_values)"
   ]
  },
  {
   "cell_type": "code",
   "execution_count": null,
   "metadata": {},
   "outputs": [],
   "source": [
    "plot_model_and_raw_data(\n",
    "    time_date,\n",
    "    model,\n",
    "    raw,\n",
    "    max_model_date=dateutil.parser.parse('01 Sep 2014')\n",
    ")"
   ]
  },
  {
   "cell_type": "code",
   "execution_count": null,
   "metadata": {},
   "outputs": [],
   "source": [
    "plot_model_evolution(time_date, model)"
   ]
  },
  {
   "cell_type": "code",
   "execution_count": null,
   "metadata": {},
   "outputs": [],
   "source": [
    "plot_model_evolution_item(time_date, model, 'infected')"
   ]
  }
 ],
 "metadata": {
  "kernelspec": {
   "display_name": "Python 3",
   "language": "python",
   "name": "python3"
  },
  "language_info": {
   "codemirror_mode": {
    "name": "ipython",
    "version": 3
   },
   "file_extension": ".py",
   "mimetype": "text/x-python",
   "name": "python",
   "nbconvert_exporter": "python",
   "pygments_lexer": "ipython3",
   "version": "3.8.0"
  }
 },
 "nbformat": 4,
 "nbformat_minor": 4
}
